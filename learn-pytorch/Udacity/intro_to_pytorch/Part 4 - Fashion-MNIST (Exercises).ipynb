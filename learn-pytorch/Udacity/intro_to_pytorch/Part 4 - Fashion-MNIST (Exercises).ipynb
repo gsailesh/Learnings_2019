{
 "cells": [
  {
   "cell_type": "markdown",
   "metadata": {},
   "source": [
    "# Classifying Fashion-MNIST\n",
    "\n",
    "Now it's your turn to build and train a neural network. You'll be using the [Fashion-MNIST dataset](https://github.com/zalandoresearch/fashion-mnist), a drop-in replacement for the MNIST dataset. MNIST is actually quite trivial with neural networks where you can easily achieve better than 97% accuracy. Fashion-MNIST is a set of 28x28 greyscale images of clothes. It's more complex than MNIST, so it's a better representation of the actual performance of your network, and a better representation of datasets you'll use in the real world.\n",
    "\n",
    "<img src='assets/fashion-mnist-sprite.png' width=500px>\n",
    "\n",
    "In this notebook, you'll build your own neural network. For the most part, you could just copy and paste the code from Part 3, but you wouldn't be learning. It's important for you to write the code yourself and get it to work. Feel free to consult the previous notebooks though as you work through this.\n",
    "\n",
    "First off, let's load the dataset through torchvision."
   ]
  },
  {
   "cell_type": "code",
   "execution_count": 1,
   "metadata": {},
   "outputs": [
    {
     "name": "stderr",
     "output_type": "stream",
     "text": [
      "\r",
      "0it [00:00, ?it/s]"
     ]
    },
    {
     "name": "stdout",
     "output_type": "stream",
     "text": [
      "Downloading http://fashion-mnist.s3-website.eu-central-1.amazonaws.com/train-images-idx3-ubyte.gz to /home/saileshg/.pytorch/F_MNIST_data/FashionMNIST/raw/train-images-idx3-ubyte.gz\n"
     ]
    },
    {
     "name": "stderr",
     "output_type": "stream",
     "text": [
      " 98%|█████████▊| 25935872/26421880 [00:14<00:00, 4429376.74it/s]"
     ]
    },
    {
     "name": "stdout",
     "output_type": "stream",
     "text": [
      "Extracting /home/saileshg/.pytorch/F_MNIST_data/FashionMNIST/raw/train-images-idx3-ubyte.gz to /home/saileshg/.pytorch/F_MNIST_data/FashionMNIST/raw\n"
     ]
    },
    {
     "name": "stderr",
     "output_type": "stream",
     "text": [
      "\n",
      "0it [00:00, ?it/s]\u001b[A"
     ]
    },
    {
     "name": "stdout",
     "output_type": "stream",
     "text": [
      "Downloading http://fashion-mnist.s3-website.eu-central-1.amazonaws.com/train-labels-idx1-ubyte.gz to /home/saileshg/.pytorch/F_MNIST_data/FashionMNIST/raw/train-labels-idx1-ubyte.gz\n"
     ]
    },
    {
     "name": "stderr",
     "output_type": "stream",
     "text": [
      "\n",
      "  0%|          | 0/29515 [00:00<?, ?it/s]\u001b[A\n",
      " 56%|█████▌    | 16384/29515 [00:00<00:00, 109852.03it/s]\u001b[A\n",
      "32768it [00:00, 65271.97it/s]                            \u001b[A\n",
      "0it [00:00, ?it/s]\u001b[A"
     ]
    },
    {
     "name": "stdout",
     "output_type": "stream",
     "text": [
      "Extracting /home/saileshg/.pytorch/F_MNIST_data/FashionMNIST/raw/train-labels-idx1-ubyte.gz to /home/saileshg/.pytorch/F_MNIST_data/FashionMNIST/raw\n",
      "Downloading http://fashion-mnist.s3-website.eu-central-1.amazonaws.com/t10k-images-idx3-ubyte.gz to /home/saileshg/.pytorch/F_MNIST_data/FashionMNIST/raw/t10k-images-idx3-ubyte.gz\n"
     ]
    },
    {
     "name": "stderr",
     "output_type": "stream",
     "text": [
      "\n",
      "  0%|          | 0/4422102 [00:00<?, ?it/s]\u001b[A\n",
      "  0%|          | 16384/4422102 [00:00<00:39, 111583.50it/s]\u001b[A\n",
      "  1%|          | 49152/4422102 [00:00<00:33, 130468.68it/s]\u001b[A\n",
      "  2%|▏         | 106496/4422102 [00:00<00:26, 160708.90it/s]\u001b[A\n",
      "  4%|▍         | 180224/4422102 [00:00<00:21, 201020.32it/s]\u001b[A\n",
      "  6%|▌         | 262144/4422102 [00:01<00:16, 248720.10it/s]\u001b[A\n",
      "  8%|▊         | 344064/4422102 [00:01<00:13, 297486.10it/s]\u001b[A\n",
      " 10%|▉         | 425984/4422102 [00:01<00:11, 343746.09it/s]\u001b[A\n",
      " 12%|█▏        | 516096/4422102 [00:01<00:09, 393389.85it/s]\u001b[A\n",
      " 14%|█▍        | 614400/4422102 [00:01<00:08, 442082.67it/s]\u001b[A\n",
      " 16%|█▌        | 712704/4422102 [00:01<00:07, 490695.69it/s]\u001b[A\n",
      " 19%|█▊        | 819200/4422102 [00:01<00:06, 532055.84it/s]\u001b[A\n",
      " 21%|██        | 925696/4422102 [00:02<00:05, 599809.39it/s]\u001b[A\n",
      " 24%|██▎       | 1040384/4422102 [00:02<00:05, 646423.80it/s]\u001b[A\n",
      " 26%|██▋       | 1163264/4422102 [00:02<00:04, 694450.31it/s]\u001b[A\n",
      " 29%|██▉       | 1294336/4422102 [00:02<00:04, 732816.65it/s]\u001b[A\n",
      " 32%|███▏      | 1425408/4422102 [00:02<00:03, 791362.39it/s]\u001b[A\n",
      " 35%|███▌      | 1564672/4422102 [00:02<00:03, 825771.57it/s]\u001b[A\n",
      " 39%|███▊      | 1712128/4422102 [00:03<00:03, 857873.70it/s]\u001b[A\n",
      " 42%|████▏     | 1867776/4422102 [00:03<00:02, 903907.18it/s]\u001b[A\n",
      " 45%|████▌     | 2007040/4422102 [00:03<00:02, 999772.60it/s]\u001b[A\n",
      " 48%|████▊     | 2113536/4422102 [00:03<00:02, 838152.41it/s]\u001b[A\n",
      " 52%|█████▏    | 2285568/4422102 [00:03<00:02, 908519.00it/s]\u001b[A\n",
      " 56%|█████▌    | 2465792/4422102 [00:03<00:01, 1014883.80it/s]\u001b[A\n",
      " 59%|█████▉    | 2613248/4422102 [00:03<00:01, 1099536.81it/s]\u001b[A\n",
      " 64%|██████▎   | 2809856/4422102 [00:03<00:01, 1184929.43it/s]\u001b[A\n",
      " 67%|██████▋   | 2940928/4422102 [00:04<00:01, 1212812.82it/s]\u001b[A\n",
      " 70%|██████▉   | 3088384/4422102 [00:04<00:01, 1245309.09it/s]\u001b[A\n",
      " 74%|███████▍  | 3268608/4422102 [00:04<00:00, 1358559.75it/s]\u001b[A\n",
      " 77%|███████▋  | 3424256/4422102 [00:04<00:00, 1376730.12it/s]\u001b[A\n",
      " 81%|████████  | 3571712/4422102 [00:04<00:00, 1342004.38it/s]\u001b[A\n",
      " 86%|████████▌ | 3792896/4422102 [00:04<00:00, 1515029.53it/s]\u001b[A\n",
      " 89%|████████▉ | 3956736/4422102 [00:04<00:00, 1484200.98it/s]\u001b[A\n",
      " 93%|█████████▎| 4112384/4422102 [00:04<00:00, 1461451.91it/s]\u001b[A\n",
      " 98%|█████████▊| 4341760/4422102 [00:04<00:00, 1589092.60it/s]\u001b[A\n",
      "\n",
      "0it [00:00, ?it/s]\u001b[A\u001b[A"
     ]
    },
    {
     "name": "stdout",
     "output_type": "stream",
     "text": [
      "Extracting /home/saileshg/.pytorch/F_MNIST_data/FashionMNIST/raw/t10k-images-idx3-ubyte.gz to /home/saileshg/.pytorch/F_MNIST_data/FashionMNIST/raw\n",
      "Downloading http://fashion-mnist.s3-website.eu-central-1.amazonaws.com/t10k-labels-idx1-ubyte.gz to /home/saileshg/.pytorch/F_MNIST_data/FashionMNIST/raw/t10k-labels-idx1-ubyte.gz\n"
     ]
    },
    {
     "name": "stderr",
     "output_type": "stream",
     "text": [
      "\n",
      "\n",
      "  0%|          | 0/5148 [00:00<?, ?it/s]\u001b[A\u001b[A\n",
      "\n",
      "8192it [00:00, 23841.24it/s]            \u001b[A\u001b[A"
     ]
    },
    {
     "name": "stdout",
     "output_type": "stream",
     "text": [
      "Extracting /home/saileshg/.pytorch/F_MNIST_data/FashionMNIST/raw/t10k-labels-idx1-ubyte.gz to /home/saileshg/.pytorch/F_MNIST_data/FashionMNIST/raw\n",
      "Processing...\n",
      "Done!\n"
     ]
    },
    {
     "name": "stderr",
     "output_type": "stream",
     "text": [
      "26427392it [00:29, 4429376.74it/s]                              \n",
      "4423680it [00:24, 1589092.60it/s]                             \u001b[A"
     ]
    }
   ],
   "source": [
    "import torch\n",
    "from torchvision import datasets, transforms\n",
    "import helper\n",
    "import torch.nn.functional as F\n",
    "\n",
    "\n",
    "# Define a transform to normalize the data\n",
    "transform = transforms.Compose([transforms.ToTensor(),\n",
    "                                transforms.Normalize((0.5,), (0.5,))])\n",
    "# Download and load the training data\n",
    "trainset = datasets.FashionMNIST('~/.pytorch/F_MNIST_data/', download=True, train=True, transform=transform)\n",
    "trainloader = torch.utils.data.DataLoader(trainset, batch_size=64, shuffle=True)\n",
    "\n",
    "# Download and load the test data\n",
    "testset = datasets.FashionMNIST('~/.pytorch/F_MNIST_data/', download=True, train=False, transform=transform)\n",
    "testloader = torch.utils.data.DataLoader(testset, batch_size=64, shuffle=True)"
   ]
  },
  {
   "cell_type": "markdown",
   "metadata": {},
   "source": [
    "Here we can see one of the images."
   ]
  },
  {
   "cell_type": "code",
   "execution_count": 2,
   "metadata": {},
   "outputs": [
    {
     "data": {
      "image/png": "[encoded data removed]",
      "text/plain": [
       "<Figure size 432x288 with 1 Axes>"
      ]
     },
     "metadata": {
      "needs_background": "light"
     },
     "output_type": "display_data"
    }
   ],
   "source": [
    "image, label = next(iter(trainloader))\n",
    "helper.imshow(image[0,:]);"
   ]
  },
  {
   "cell_type": "markdown",
   "metadata": {},
   "source": [
    "## Building the network\n",
    "\n",
    "Here you should define your network. As with MNIST, each image is 28x28 which is a total of 784 pixels, and there are 10 classes. You should include at least one hidden layer. We suggest you use ReLU activations for the layers and to return the logits or log-softmax from the forward pass. It's up to you how many layers you add and the size of those layers."
   ]
  },
  {
   "cell_type": "code",
   "execution_count": 3,
   "metadata": {},
   "outputs": [],
   "source": [
    "# TODO: Define your network architecture here\n",
    "class FashionNetwork(torch.nn.Module):\n",
    "  def __init__(self):\n",
    "    super().__init__()\n",
    "    self.fc1 = torch.nn.Linear(784, 256)\n",
    "    self.fc2 = torch.nn.Linear(256, 128)\n",
    "    self.fc3 = torch.nn.Linear(128, 64)\n",
    "    self.fc4 = torch.nn.Linear(64, 10)\n",
    "    \n",
    "  def forward(self, x):\n",
    "    x = x.view(x.shape[0],-1) # Flatten\n",
    "    \n",
    "    x = F.relu(self.fc1(x))\n",
    "    x = F.relu(self.fc2(x))\n",
    "    x = F.relu(self.fc3(x))\n",
    "    x = F.log_softmax(self.fc4(x), dim=1)\n",
    "    \n",
    "    return x"
   ]
  },
  {
   "cell_type": "markdown",
   "metadata": {},
   "source": [
    "# Train the network\n",
    "\n",
    "Now you should create your network and train it. First you'll want to define [the criterion](http://pytorch.org/docs/master/nn.html#loss-functions) ( something like `nn.CrossEntropyLoss`) and [the optimizer](http://pytorch.org/docs/master/optim.html) (typically `optim.SGD` or `optim.Adam`).\n",
    "\n",
    "Then write the training code. Remember the training pass is a fairly straightforward process:\n",
    "\n",
    "* Make a forward pass through the network to get the logits \n",
    "* Use the logits to calculate the loss\n",
    "* Perform a backward pass through the network with `loss.backward()` to calculate the gradients\n",
    "* Take a step with the optimizer to update the weights\n",
    "\n",
    "By adjusting the hyperparameters (hidden units, learning rate, etc), you should be able to get the training loss below 0.4."
   ]
  },
  {
   "cell_type": "code",
   "execution_count": 4,
   "metadata": {},
   "outputs": [],
   "source": [
    "# TODO: Create the network, define the criterion and optimizer\n",
    "criterion = torch.nn.CrossEntropyLoss()\n",
    "\n",
    "model = FashionNetwork()\n",
    "optimizer = torch.optim.Adam(model.parameters(), lr=0.0002)"
   ]
  },
  {
   "cell_type": "code",
   "execution_count": 6,
   "metadata": {},
   "outputs": [
    {
     "name": "stdout",
     "output_type": "stream",
     "text": [
      "Running Loss: 604.9030265808105\n",
      "Running Loss: 396.94718340039253\n",
      "Running Loss: 356.31430184841156\n",
      "Running Loss: 330.65237594395876\n",
      "Running Loss: 310.87005120515823\n",
      "Running Loss: 295.2496705651283\n",
      "Running Loss: 283.092443831265\n",
      "Running Loss: 271.1586662977934\n",
      "Running Loss: 258.9321997091174\n",
      "Running Loss: 251.01214921474457\n",
      "Running Loss: 239.62780591100454\n",
      "Running Loss: 231.98969985544682\n",
      "Running Loss: 225.0961480922997\n",
      "Running Loss: 215.9440994337201\n",
      "Running Loss: 209.63755248859525\n",
      "Running Loss: 202.22800081595778\n",
      "Running Loss: 195.30400703847408\n",
      "Running Loss: 190.95590214431286\n",
      "Running Loss: 183.87036444991827\n",
      "Running Loss: 177.84544125199318\n"
     ]
    }
   ],
   "source": [
    "# TODO: Train the network here\n",
    "epochs = 20\n",
    "\n",
    "for e in range(epochs):\n",
    "  running_loss = 0\n",
    "  \n",
    "  for X,y in trainloader:\n",
    "    \n",
    "    preds = model(X)\n",
    "    loss = criterion(preds, y)\n",
    "    \n",
    "    optimizer.zero_grad()\n",
    "    loss.backward()\n",
    "    optimizer.step()\n",
    "    \n",
    "    running_loss += loss.item()\n",
    "   \n",
    "  else:\n",
    "    print(\"Running Loss: {}\".format(running_loss))\n"
   ]
  },
  {
   "cell_type": "code",
   "execution_count": 7,
   "metadata": {},
   "outputs": [
    {
     "data": {
      "image/png": "[encoded data removed]",
      "text/plain": [
       "<Figure size 432x648 with 2 Axes>"
      ]
     },
     "metadata": {
      "image/png": {
       "height": 206,
       "width": 423
      },
      "needs_background": "light"
     },
     "output_type": "display_data"
    }
   ],
   "source": [
    "%matplotlib inline\n",
    "%config InlineBackend.figure_format = 'retina'\n",
    "\n",
    "import helper\n",
    "\n",
    "# Test out your network!\n",
    "\n",
    "dataiter = iter(testloader)\n",
    "images, labels = dataiter.next()\n",
    "img = images[0]\n",
    "# Convert 2D image to 1D vector\n",
    "img = img.resize_(1, 784)\n",
    "\n",
    "# TODO: Calculate the class probabilities (softmax) for img\n",
    "ps = torch.exp(model(img))\n",
    "\n",
    "# Plot the image and probabilities\n",
    "helper.view_classify(img.resize_(1, 28, 28), ps, version='Fashion')"
   ]
  },
  {
   "cell_type": "code",
   "execution_count": null,
   "metadata": {},
   "outputs": [],
   "source": []
  }
 ],
 "metadata": {
  "kernelspec": {
   "display_name": "Python 3",
   "language": "python",
   "name": "python3"
  },
  "language_info": {
   "codemirror_mode": {
    "name": "ipython",
    "version": 3
   },
   "file_extension": ".py",
   "mimetype": "text/x-python",
   "name": "python",
   "nbconvert_exporter": "python",
   "pygments_lexer": "ipython3",
   "version": "3.6.7"
  }
 },
 "nbformat": 4,
 "nbformat_minor": 2
}
