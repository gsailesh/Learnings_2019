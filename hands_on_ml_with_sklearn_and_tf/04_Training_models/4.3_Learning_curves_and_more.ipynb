{
 "cells": [
  {
   "cell_type": "markdown",
   "metadata": {},
   "source": [
    "### Polynomial degree features\n",
    "\n",
    "- A non-linear function can be fit by extending `Linear Regression` with Polynomial features. The technique is known as `Polynomial Regression`\n",
    "- For `n` features, applying polynomial degree `d` makes `(n+d)! / n! * d!` features (possible feature explosion for higher degrees!)\n",
    "- For `d=2`, `x` and `x*x` would be included as features. However, for `d=3`, with features `x1` and `x2` - their 3rd degree powers as well as the combinations yielding 3rd degree would be included."
   ]
  },
  {
   "cell_type": "code",
   "execution_count": 1,
   "metadata": {},
   "outputs": [],
   "source": [
    "import numpy as np\n",
    "from sklearn.linear_model import LinearRegression\n",
    "from sklearn.preprocessing import PolynomialFeatures"
   ]
  },
  {
   "cell_type": "code",
   "execution_count": 2,
   "metadata": {},
   "outputs": [],
   "source": [
    "m = 100\n",
    "\n",
    "X = 6 * np.random.rand(m,1) - 3\n",
    "y = 0.5 * X**2 + X + 2 + np.random.rand(m,1)"
   ]
  },
  {
   "cell_type": "code",
   "execution_count": 3,
   "metadata": {},
   "outputs": [
    {
     "name": "stdout",
     "output_type": "stream",
     "text": [
      "X:[1.95021829] and X_polynomial: [1.95021829 3.8033514 ]\n"
     ]
    }
   ],
   "source": [
    "polynomial_features = PolynomialFeatures(degree=2, include_bias=False)\n",
    "\n",
    "X_polynomial = polynomial_features.fit_transform(X)\n",
    "\n",
    "print(\"X:{} and X_polynomial: {}\".format(X[0], X_polynomial[0]))"
   ]
  },
  {
   "cell_type": "code",
   "execution_count": 4,
   "metadata": {},
   "outputs": [
    {
     "name": "stdout",
     "output_type": "stream",
     "text": [
      "Intercept:[2.51373624] and Coefficient: [[0.98961079 0.49384364]]\n"
     ]
    }
   ],
   "source": [
    "linear_regression = LinearRegression()\n",
    "\n",
    "linear_regression.fit(X_polynomial, y)\n",
    "print(\"Intercept:{} and Coefficient: {}\".format(linear_regression.intercept_, linear_regression.coef_))"
   ]
  },
  {
   "cell_type": "markdown",
   "metadata": {},
   "source": [
    "### Plot Learning Curves"
   ]
  },
  {
   "cell_type": "code",
   "execution_count": 5,
   "metadata": {},
   "outputs": [],
   "source": [
    "def plot_learning_curves(model, X, y):\n",
    "    \n",
    "    from sklearn.metrics import mean_squared_error\n",
    "    from sklearn.model_selection import train_test_split\n",
    "    import matplotlib.pyplot as plt\n",
    "    \n",
    "    X_train, X_test, y_train, y_test = train_test_split(X, y, test_size=0.2)\n",
    "    m=len(X_train)\n",
    "    train_err, val_err = [], []\n",
    "    \n",
    "    for i in range(1,m):\n",
    "        \n",
    "        model.fit(X_train[:i], y_train[:i])\n",
    "        y_train_pred = model.predict(X_train[:i])\n",
    "        train_err.append(mean_squared_error(y_train_pred, y_train[:i]))\n",
    "        \n",
    "        y_test_pred = model.predict(X_test)\n",
    "        val_err.append(mean_squared_error(y_test_pred, y_test))\n",
    "        \n",
    "    plt.plot(np.sqrt(train_err), \"r-\", label=\"Training error\")\n",
    "    plt.plot(np.sqrt(val_err),  \"g+\", label=\"Validation error\")"
   ]
  },
  {
   "cell_type": "code",
   "execution_count": 7,
   "metadata": {},
   "outputs": [
    {
     "data": {
      "image/png": "[encoded data removed]",
      "text/plain": [
       "<Figure size 432x288 with 1 Axes>"
      ]
     },
     "metadata": {
      "needs_background": "light"
     },
     "output_type": "display_data"
    }
   ],
   "source": [
    "plot_learning_curves(linear_regression, X, y)"
   ]
  }
 ],
 "metadata": {
  "kernelspec": {
   "display_name": "Python 3",
   "language": "python",
   "name": "python3"
  },
  "language_info": {
   "codemirror_mode": {
    "name": "ipython",
    "version": 3
   },
   "file_extension": ".py",
   "mimetype": "text/x-python",
   "name": "python",
   "nbconvert_exporter": "python",
   "pygments_lexer": "ipython3",
   "version": "3.6.7"
  }
 },
 "nbformat": 4,
 "nbformat_minor": 2
}
