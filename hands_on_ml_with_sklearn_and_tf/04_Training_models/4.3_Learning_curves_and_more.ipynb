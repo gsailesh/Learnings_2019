{
 "cells": [
  {
   "cell_type": "markdown",
   "metadata": {},
   "source": [
    "### Polynomial degree features\n",
    "\n",
    "- A non-linear function can be fit by extending `Linear Regression` with Polynomial features. The technique is known as `Polynomial Regression`\n",
    "- For `n` features, applying polynomial degree `d` makes `(n+d)! / n! * d!` features (possible feature explosion for higher degrees!)\n",
    "- For `d=2`, `x` and `x*x` would be included as features. However, for `d=3`, with features `x1` and `x2` - their 3rd degree powers as well as the combinations yielding 3rd degree would be included."
   ]
  },
  {
   "cell_type": "code",
   "execution_count": 1,
   "metadata": {},
   "outputs": [],
   "source": [
    "import numpy as np\n",
    "from sklearn.linear_model import LinearRegression\n",
    "from sklearn.preprocessing import PolynomialFeatures\n",
    "from sklearn.metrics import mean_squared_error\n",
    "from sklearn.model_selection import train_test_split\n",
    "import matplotlib.pyplot as plt\n",
    "from sklearn.linear_model import Ridge, Lasso, SGDRegressor"
   ]
  },
  {
   "cell_type": "code",
   "execution_count": 2,
   "metadata": {},
   "outputs": [],
   "source": [
    "m = 100\n",
    "\n",
    "X = 6 * np.random.rand(m,1) - 3\n",
    "y = 0.5 * X**2 + X + 2 + np.random.rand(m,1)"
   ]
  },
  {
   "cell_type": "code",
   "execution_count": 3,
   "metadata": {},
   "outputs": [
    {
     "name": "stdout",
     "output_type": "stream",
     "text": [
      "X:[-0.94222305] and X_polynomial: [-0.94222305  0.88778428]\n"
     ]
    }
   ],
   "source": [
    "polynomial_features = PolynomialFeatures(degree=2, include_bias=False)\n",
    "\n",
    "X_polynomial = polynomial_features.fit_transform(X)\n",
    "\n",
    "print(\"X:{} and X_polynomial: {}\".format(X[0], X_polynomial[0]))"
   ]
  },
  {
   "cell_type": "code",
   "execution_count": 4,
   "metadata": {},
   "outputs": [
    {
     "name": "stdout",
     "output_type": "stream",
     "text": [
      "Intercept:[2.54522037] and Coefficient: [[1.01567362 0.5003115 ]]\n"
     ]
    }
   ],
   "source": [
    "linear_regression = LinearRegression()\n",
    "\n",
    "linear_regression.fit(X_polynomial, y)\n",
    "print(\"Intercept:{} and Coefficient: {}\".format(linear_regression.intercept_, linear_regression.coef_))"
   ]
  },
  {
   "cell_type": "markdown",
   "metadata": {},
   "source": [
    "### Plot Learning Curves"
   ]
  },
  {
   "cell_type": "code",
   "execution_count": 5,
   "metadata": {},
   "outputs": [],
   "source": [
    "def plot_learning_curves(model, X, y):\n",
    "    \n",
    "#     from sklearn.metrics import mean_squared_error\n",
    "#     from sklearn.model_selection import train_test_split\n",
    "#     import matplotlib.pyplot as plt\n",
    "    \n",
    "    X_train, X_test, y_train, y_test = train_test_split(X, y, test_size=0.2)\n",
    "    m=len(X_train)\n",
    "    train_err, val_err = [], []\n",
    "    \n",
    "    for i in range(1,m):\n",
    "        \n",
    "        model.fit(X_train[:i], y_train[:i])\n",
    "        y_train_pred = model.predict(X_train[:i])\n",
    "        train_err.append(mean_squared_error(y_train_pred, y_train[:i]))\n",
    "        \n",
    "        y_test_pred = model.predict(X_test)\n",
    "        val_err.append(mean_squared_error(y_test_pred, y_test))\n",
    "        \n",
    "    plt.plot(np.sqrt(train_err), \"r-\", label=\"Training error\")\n",
    "    plt.plot(np.sqrt(val_err),  \"g+\", label=\"Validation error\")"
   ]
  },
  {
   "cell_type": "code",
   "execution_count": 6,
   "metadata": {},
   "outputs": [
    {
     "data": {
      "image/png": "[encoded data removed]",
      "text/plain": [
       "<Figure size 432x288 with 1 Axes>"
      ]
     },
     "metadata": {
      "needs_background": "light"
     },
     "output_type": "display_data"
    }
   ],
   "source": [
    "plot_learning_curves(linear_regression, X, y)"
   ]
  },
  {
   "cell_type": "markdown",
   "metadata": {},
   "source": [
    "### Ridge & Lasso Regressions\n",
    "\n",
    "- Ridge is Norm-2\n",
    "- Lasso is Norm-1 (produces sparse model ; acts as a feature selector)\n",
    "- Both techniques regularize the cost function `y = f(X)`\n",
    "- Regularization can be controlled with the parameter `alpha` to bring in the Bias-Variance tradeoff"
   ]
  },
  {
   "cell_type": "code",
   "execution_count": 7,
   "metadata": {},
   "outputs": [
    {
     "name": "stdout",
     "output_type": "stream",
     "text": [
      "Predictions\n",
      "\n",
      " Ridge: [[5.72307643]], Lasso: [5.68186645], SGD with L2: [4.79027628], , SGD with L1: [4.81821928]\n",
      "Ridge with sag-solver: [[5.74723019]]\n"
     ]
    },
    {
     "name": "stderr",
     "output_type": "stream",
     "text": [
      "/home/saileshg/sailspace/dev2019/py3env/lib/python3.6/site-packages/sklearn/linear_model/stochastic_gradient.py:166: FutureWarning: max_iter and tol parameters have been added in SGDRegressor in 0.19. If both are left unset, they default to max_iter=5 and tol=None. If tol is not None, max_iter defaults to max_iter=1000. From 0.21, default max_iter will be 1000, and default tol will be 1e-3.\n",
      "  FutureWarning)\n",
      "/home/saileshg/sailspace/dev2019/py3env/lib/python3.6/site-packages/sklearn/utils/validation.py:761: DataConversionWarning: A column-vector y was passed when a 1d array was expected. Please change the shape of y to (n_samples, ), for example using ravel().\n",
      "  y = column_or_1d(y, warn=True)\n",
      "/home/saileshg/sailspace/dev2019/py3env/lib/python3.6/site-packages/sklearn/linear_model/stochastic_gradient.py:166: FutureWarning: max_iter and tol parameters have been added in SGDRegressor in 0.19. If both are left unset, they default to max_iter=5 and tol=None. If tol is not None, max_iter defaults to max_iter=1000. From 0.21, default max_iter will be 1000, and default tol will be 1e-3.\n",
      "  FutureWarning)\n",
      "/home/saileshg/sailspace/dev2019/py3env/lib/python3.6/site-packages/sklearn/utils/validation.py:761: DataConversionWarning: A column-vector y was passed when a 1d array was expected. Please change the shape of y to (n_samples, ), for example using ravel().\n",
      "  y = column_or_1d(y, warn=True)\n"
     ]
    }
   ],
   "source": [
    "ridge_regression = Ridge(alpha=0.1, solver=\"cholesky\")\n",
    "lasso_regression = Lasso(alpha=0.1)\n",
    "sgd_l2 = SGDRegressor(penalty=\"l2\")\n",
    "sgd_l1 = SGDRegressor(penalty=\"l2\")\n",
    "\n",
    "ridge_regression.fit(X, y)\n",
    "lasso_regression.fit(X, y)\n",
    "sgd_l1.fit(X, y)\n",
    "sgd_l2.fit(X, y)\n",
    "\n",
    "print(\n",
    "    \"Predictions\\n\\n Ridge: {}, Lasso: {}, SGD with L2: {}, , SGD with L1: {}\"\n",
    "    .format(ridge_regression.predict([[1.5]]), \n",
    "            lasso_regression.predict([[1.5]]), \n",
    "            sgd_l2.predict([[1.5]]),\n",
    "           sgd_l1.predict([[1.5]])))\n",
    "\n",
    "ridge_regression = Ridge(alpha=0.1, solver=\"sag\")\n",
    "ridge_regression.fit(X, y)\n",
    "\n",
    "print(\"Ridge with sag-solver: {}\".format(ridge_regression.predict([[1.5]])))"
   ]
  },
  {
   "cell_type": "markdown",
   "metadata": {},
   "source": [
    "### ElasticNet\n",
    "- Middle ground between `Ridge` and `Lasso`\n",
    "- use a hyperparameter `l1_ratio` to control the behaviour"
   ]
  },
  {
   "cell_type": "code",
   "execution_count": 8,
   "metadata": {},
   "outputs": [
    {
     "name": "stdout",
     "output_type": "stream",
     "text": [
      "Elastic Net: [5.68164073]\n"
     ]
    }
   ],
   "source": [
    "from sklearn.linear_model import ElasticNet\n",
    "\n",
    "elastic_net = ElasticNet(alpha=0.1, l1_ratio=0.6)\n",
    "elastic_net.fit(X, y)\n",
    "\n",
    "print(\"Elastic Net: {}\".format(elastic_net.predict([[1.5]])))"
   ]
  }
 ],
 "metadata": {
  "kernelspec": {
   "display_name": "Python 3",
   "language": "python",
   "name": "python3"
  },
  "language_info": {
   "codemirror_mode": {
    "name": "ipython",
    "version": 3
   },
   "file_extension": ".py",
   "mimetype": "text/x-python",
   "name": "python",
   "nbconvert_exporter": "python",
   "pygments_lexer": "ipython3",
   "version": "3.6.7"
  }
 },
 "nbformat": 4,
 "nbformat_minor": 2
}
