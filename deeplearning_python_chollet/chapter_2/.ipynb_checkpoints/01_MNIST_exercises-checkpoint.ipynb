{
 "cells": [
  {
   "cell_type": "code",
   "execution_count": 1,
   "metadata": {},
   "outputs": [],
   "source": [
    "import keras\n",
    "from keras.datasets import mnist"
   ]
  },
  {
   "cell_type": "code",
   "execution_count": 2,
   "metadata": {},
   "outputs": [],
   "source": [
    "(train_images, train_labels), (test_images, test_labels) = mnist.load_data()"
   ]
  },
  {
   "cell_type": "code",
   "execution_count": 3,
   "metadata": {},
   "outputs": [],
   "source": [
    "model = keras.models.Sequential()\n",
    "\n",
    "model.add(keras.layers.Dense(512, activation='relu', input_shape=(28*28,)))\n",
    "model.add(keras.layers.Dense(10, activation='softmax'))"
   ]
  },
  {
   "cell_type": "code",
   "execution_count": 4,
   "metadata": {},
   "outputs": [],
   "source": [
    "model.compile(optimizer='adam', loss='categorical_crossentropy', metrics=['accuracy'])"
   ]
  },
  {
   "cell_type": "markdown",
   "metadata": {},
   "source": [
    "### Data preparation\n",
    "\n",
    "Before training, the data is preprocessed by reshaping it into the shape the network expects and scaling it so that all values are in the `[0, 1]` interval."
   ]
  },
  {
   "cell_type": "code",
   "execution_count": 7,
   "metadata": {},
   "outputs": [],
   "source": [
    "def preprocess_data(data):\n",
    "    \n",
    "    data = data.reshape((data.shape[0], 28*28))\n",
    "    data = data.astype('float32')/255\n",
    "    \n",
    "    return data"
   ]
  },
  {
   "cell_type": "code",
   "execution_count": 8,
   "metadata": {},
   "outputs": [],
   "source": [
    "train_images = preprocess_data(train_images)\n",
    "test_images = preprocess_data(test_images)"
   ]
  },
  {
   "cell_type": "code",
   "execution_count": 9,
   "metadata": {},
   "outputs": [],
   "source": [
    "train_labels = keras.utils.to_categorical(train_labels)\n",
    "test_labels = keras.utils.to_categorical(test_labels)"
   ]
  },
  {
   "cell_type": "code",
   "execution_count": 11,
   "metadata": {},
   "outputs": [
    {
     "name": "stdout",
     "output_type": "stream",
     "text": [
      "Train on 60000 samples, validate on 10000 samples\n",
      "Epoch 1/30\n",
      " - 10s - loss: 0.0391 - acc: 0.9880 - val_loss: 0.0689 - val_acc: 0.9783\n",
      "Epoch 2/30\n",
      " - 9s - loss: 0.0285 - acc: 0.9915 - val_loss: 0.0667 - val_acc: 0.9799\n",
      "Epoch 3/30\n",
      " - 9s - loss: 0.0222 - acc: 0.9932 - val_loss: 0.0670 - val_acc: 0.9801\n",
      "Epoch 4/30\n",
      " - 9s - loss: 0.0154 - acc: 0.9953 - val_loss: 0.0713 - val_acc: 0.9806\n",
      "Epoch 5/30\n",
      " - 9s - loss: 0.0136 - acc: 0.9959 - val_loss: 0.0653 - val_acc: 0.9802\n",
      "Epoch 6/30\n",
      " - 10s - loss: 0.0109 - acc: 0.9966 - val_loss: 0.0758 - val_acc: 0.9798\n",
      "Epoch 7/30\n",
      " - 9s - loss: 0.0104 - acc: 0.9966 - val_loss: 0.0661 - val_acc: 0.9819\n",
      "Epoch 8/30\n",
      " - 9s - loss: 0.0072 - acc: 0.9977 - val_loss: 0.0830 - val_acc: 0.9791\n"
     ]
    },
    {
     "data": {
      "text/plain": [
       "<keras.callbacks.History at 0x7fc464665278>"
      ]
     },
     "execution_count": 11,
     "metadata": {},
     "output_type": "execute_result"
    }
   ],
   "source": [
    "model.fit(train_images, train_labels, epochs=30, verbose=2, validation_data=(test_images, test_labels), batch_size=64, callbacks=[keras.callbacks.EarlyStopping(patience=3)])"
   ]
  },
  {
   "cell_type": "code",
   "execution_count": null,
   "metadata": {},
   "outputs": [],
   "source": []
  }
 ],
 "metadata": {
  "kernelspec": {
   "display_name": "Python 3",
   "language": "python",
   "name": "python3"
  },
  "language_info": {
   "codemirror_mode": {
    "name": "ipython",
    "version": 3
   },
   "file_extension": ".py",
   "mimetype": "text/x-python",
   "name": "python",
   "nbconvert_exporter": "python",
   "pygments_lexer": "ipython3",
   "version": "3.6.7"
  }
 },
 "nbformat": 4,
 "nbformat_minor": 2
}
