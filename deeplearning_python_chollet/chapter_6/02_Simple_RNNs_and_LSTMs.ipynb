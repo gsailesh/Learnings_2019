{
 "cells": [
  {
   "cell_type": "code",
   "execution_count": 1,
   "metadata": {},
   "outputs": [],
   "source": [
    "from keras.datasets import imdb\n",
    "from keras.preprocessing import sequence\n",
    "from keras.layers import Dense, Embedding, SimpleRNN, LSTM\n",
    "from keras.models import Sequential"
   ]
  },
  {
   "cell_type": "code",
   "execution_count": 2,
   "metadata": {},
   "outputs": [],
   "source": [
    "max_features = 10000\n",
    "maxlen = 500\n",
    "batch_size = 32"
   ]
  },
  {
   "cell_type": "code",
   "execution_count": 3,
   "metadata": {},
   "outputs": [],
   "source": [
    "(X_train, y_train), (X_test, y_test) = imdb.load_data(num_words=max_features)"
   ]
  },
  {
   "cell_type": "code",
   "execution_count": 4,
   "metadata": {},
   "outputs": [],
   "source": [
    "X_train = sequence.pad_sequences(X_train, maxlen=maxlen)\n",
    "X_test = sequence.pad_sequences(X_test, maxlen=maxlen)"
   ]
  },
  {
   "cell_type": "code",
   "execution_count": 6,
   "metadata": {},
   "outputs": [],
   "source": [
    "model = Sequential()\n",
    "\n",
    "model.add(Embedding(max_features, 32))\n",
    "model.add(SimpleRNN(32))\n",
    "model.add(Dense(1, activation='sigmoid'))\n",
    "\n",
    "model.compile(optimizer='adam', loss='binary_crossentropy', metrics=['acc'])"
   ]
  },
  {
   "cell_type": "code",
   "execution_count": 7,
   "metadata": {},
   "outputs": [
    {
     "name": "stdout",
     "output_type": "stream",
     "text": [
      "Train on 25000 samples, validate on 25000 samples\n",
      "Epoch 1/10\n",
      "25000/25000 [==============================] - 72s 3ms/step - loss: 0.5918 - acc: 0.6618 - val_loss: 0.5745 - val_acc: 0.6998\n",
      "Epoch 2/10\n",
      "25000/25000 [==============================] - 70s 3ms/step - loss: 0.3952 - acc: 0.8268 - val_loss: 0.4533 - val_acc: 0.8035\n",
      "Epoch 3/10\n",
      "25000/25000 [==============================] - 67s 3ms/step - loss: 0.2831 - acc: 0.8818 - val_loss: 0.6403 - val_acc: 0.6799\n",
      "Epoch 4/10\n",
      "25000/25000 [==============================] - 67s 3ms/step - loss: 0.1543 - acc: 0.9430 - val_loss: 0.5611 - val_acc: 0.8070\n",
      "Epoch 5/10\n",
      "25000/25000 [==============================] - 67s 3ms/step - loss: 0.0510 - acc: 0.9850 - val_loss: 0.7932 - val_acc: 0.7498\n",
      "Epoch 6/10\n",
      "25000/25000 [==============================] - 67s 3ms/step - loss: 0.0241 - acc: 0.9933 - val_loss: 0.8491 - val_acc: 0.7698\n",
      "Epoch 7/10\n",
      "25000/25000 [==============================] - 67s 3ms/step - loss: 0.0168 - acc: 0.9956 - val_loss: 0.8909 - val_acc: 0.7821\n",
      "Epoch 8/10\n",
      "25000/25000 [==============================] - 70s 3ms/step - loss: 0.0195 - acc: 0.9940 - val_loss: 0.9682 - val_acc: 0.7805\n",
      "Epoch 9/10\n",
      "25000/25000 [==============================] - 67s 3ms/step - loss: 0.0193 - acc: 0.9940 - val_loss: 1.0235 - val_acc: 0.7832\n",
      "Epoch 10/10\n",
      "25000/25000 [==============================] - 67s 3ms/step - loss: 0.0281 - acc: 0.9899 - val_loss: 1.0632 - val_acc: 0.7570\n"
     ]
    }
   ],
   "source": [
    "history = model.fit(X_train, y_train, epochs=10, validation_data=(X_test, y_test))"
   ]
  },
  {
   "cell_type": "code",
   "execution_count": 9,
   "metadata": {},
   "outputs": [
    {
     "name": "stdout",
     "output_type": "stream",
     "text": [
      "Train on 25000 samples, validate on 25000 samples\n",
      "Epoch 1/10\n",
      "25000/25000 [==============================] - 83s 3ms/step - loss: 0.4654 - acc: 0.7816 - val_loss: 0.3348 - val_acc: 0.8645\n",
      "Epoch 2/10\n",
      "25000/25000 [==============================] - 82s 3ms/step - loss: 0.2458 - acc: 0.9056 - val_loss: 0.3300 - val_acc: 0.8705\n",
      "Epoch 3/10\n",
      "25000/25000 [==============================] - 82s 3ms/step - loss: 0.1766 - acc: 0.9370 - val_loss: 0.3055 - val_acc: 0.8780\n",
      "Epoch 4/10\n",
      "25000/25000 [==============================] - 83s 3ms/step - loss: 0.1434 - acc: 0.9511 - val_loss: 0.3508 - val_acc: 0.8690\n",
      "Epoch 5/10\n",
      "25000/25000 [==============================] - 83s 3ms/step - loss: 0.1304 - acc: 0.9546 - val_loss: 0.3653 - val_acc: 0.8689\n",
      "Epoch 6/10\n",
      "25000/25000 [==============================] - 83s 3ms/step - loss: 0.1028 - acc: 0.9652 - val_loss: 0.3814 - val_acc: 0.8644\n",
      "Epoch 7/10\n",
      "25000/25000 [==============================] - 82s 3ms/step - loss: 0.0906 - acc: 0.9685 - val_loss: 0.4865 - val_acc: 0.8571\n",
      "Epoch 8/10\n",
      "25000/25000 [==============================] - 83s 3ms/step - loss: 0.0711 - acc: 0.9766 - val_loss: 0.5304 - val_acc: 0.8579\n",
      "Epoch 9/10\n",
      "25000/25000 [==============================] - 85s 3ms/step - loss: 0.0880 - acc: 0.9684 - val_loss: 0.4514 - val_acc: 0.8494\n",
      "Epoch 10/10\n",
      "25000/25000 [==============================] - 96s 4ms/step - loss: 0.0734 - acc: 0.9757 - val_loss: 0.5183 - val_acc: 0.8519\n"
     ]
    }
   ],
   "source": [
    "model = Sequential()\n",
    "model.add(Embedding(max_features, 32))\n",
    "model.add(LSTM(32))\n",
    "model.add(Dense(1, activation='sigmoid'))\n",
    "\n",
    "model.compile(optimizer='adam', loss='binary_crossentropy', metrics=['acc'])\n",
    "\n",
    "history = model.fit(X_train, y_train, epochs=10, validation_data=(X_test, y_test), batch_size=128)"
   ]
  }
 ],
 "metadata": {
  "kernelspec": {
   "display_name": "Python 3",
   "language": "python",
   "name": "python3"
  },
  "language_info": {
   "codemirror_mode": {
    "name": "ipython",
    "version": 3
   },
   "file_extension": ".py",
   "mimetype": "text/x-python",
   "name": "python",
   "nbconvert_exporter": "python",
   "pygments_lexer": "ipython3",
   "version": "3.6.7"
  }
 },
 "nbformat": 4,
 "nbformat_minor": 2
}
