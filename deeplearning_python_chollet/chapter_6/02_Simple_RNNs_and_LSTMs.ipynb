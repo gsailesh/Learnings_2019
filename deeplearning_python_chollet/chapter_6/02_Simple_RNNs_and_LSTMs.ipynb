{
 "cells": [
  {
   "cell_type": "code",
   "execution_count": 1,
   "metadata": {},
   "outputs": [
    {
     "name": "stderr",
     "output_type": "stream",
     "text": [
      "Using TensorFlow backend.\n"
     ]
    }
   ],
   "source": [
    "from keras.datasets import imdb\n",
    "from keras.preprocessing import sequence\n",
    "from keras.layers import Dense, Embedding, SimpleRNN, LSTM\n",
    "from keras.models import Sequential"
   ]
  },
  {
   "cell_type": "code",
   "execution_count": 2,
   "metadata": {},
   "outputs": [],
   "source": [
    "max_features = 10000\n",
    "maxlen = 500\n",
    "batch_size = 32"
   ]
  },
  {
   "cell_type": "code",
   "execution_count": 3,
   "metadata": {},
   "outputs": [],
   "source": [
    "(X_train, y_train), (X_test, y_test) = imdb.load_data(num_words=max_features)"
   ]
  },
  {
   "cell_type": "code",
   "execution_count": 4,
   "metadata": {},
   "outputs": [],
   "source": [
    "X_train = sequence.pad_sequences(X_train, maxlen=maxlen)\n",
    "X_test = sequence.pad_sequences(X_test, maxlen=maxlen)"
   ]
  },
  {
   "cell_type": "code",
   "execution_count": 5,
   "metadata": {},
   "outputs": [],
   "source": [
    "model = Sequential()\n",
    "\n",
    "model.add(Embedding(max_features, 32))\n",
    "model.add(SimpleRNN(32))\n",
    "model.add(Dense(1, activation='sigmoid'))\n",
    "\n",
    "model.compile(optimizer='adam', loss='binary_crossentropy', metrics=['acc'])"
   ]
  },
  {
   "cell_type": "code",
   "execution_count": 6,
   "metadata": {},
   "outputs": [
    {
     "name": "stdout",
     "output_type": "stream",
     "text": [
      "Train on 25000 samples, validate on 25000 samples\n",
      "Epoch 1/20\n",
      "25000/25000 [==============================] - 76s 3ms/step - loss: 0.6262 - acc: 0.6333 - val_loss: 0.6221 - val_acc: 0.6402\n",
      "Epoch 2/20\n",
      "25000/25000 [==============================] - 71s 3ms/step - loss: 0.5324 - acc: 0.7369 - val_loss: 0.5252 - val_acc: 0.7436\n",
      "Epoch 3/20\n",
      "25000/25000 [==============================] - 70s 3ms/step - loss: 0.4728 - acc: 0.7750 - val_loss: 0.5565 - val_acc: 0.7120\n",
      "Epoch 4/20\n",
      "25000/25000 [==============================] - 70s 3ms/step - loss: 0.3754 - acc: 0.8348 - val_loss: 0.6020 - val_acc: 0.6684\n",
      "Epoch 5/20\n",
      "25000/25000 [==============================] - 70s 3ms/step - loss: 0.4703 - acc: 0.7764 - val_loss: 0.5814 - val_acc: 0.7025\n",
      "Epoch 6/20\n",
      "25000/25000 [==============================] - 70s 3ms/step - loss: 0.4172 - acc: 0.8078 - val_loss: 0.5761 - val_acc: 0.7170\n",
      "Epoch 7/20\n",
      "25000/25000 [==============================] - 71s 3ms/step - loss: 0.3699 - acc: 0.8396 - val_loss: 0.5605 - val_acc: 0.7472\n",
      "Epoch 8/20\n",
      "25000/25000 [==============================] - 71s 3ms/step - loss: 0.3168 - acc: 0.8696 - val_loss: 0.5386 - val_acc: 0.7592\n",
      "Epoch 9/20\n",
      "25000/25000 [==============================] - 71s 3ms/step - loss: 0.3798 - acc: 0.8267 - val_loss: 0.6033 - val_acc: 0.6899\n",
      "Epoch 10/20\n",
      "25000/25000 [==============================] - 71s 3ms/step - loss: 0.4030 - acc: 0.8152 - val_loss: 0.6068 - val_acc: 0.7074\n",
      "Epoch 11/20\n",
      "25000/25000 [==============================] - 71s 3ms/step - loss: 0.3588 - acc: 0.8440 - val_loss: 0.6175 - val_acc: 0.7280\n",
      "Epoch 12/20\n",
      "25000/25000 [==============================] - 72s 3ms/step - loss: 0.3192 - acc: 0.8667 - val_loss: 0.6439 - val_acc: 0.7319\n",
      "Epoch 13/20\n",
      "25000/25000 [==============================] - 72s 3ms/step - loss: 0.3006 - acc: 0.8751 - val_loss: 0.5999 - val_acc: 0.7521\n",
      "Epoch 14/20\n",
      "25000/25000 [==============================] - 71s 3ms/step - loss: 0.3213 - acc: 0.8645 - val_loss: 0.5998 - val_acc: 0.7184\n",
      "Epoch 15/20\n",
      "25000/25000 [==============================] - 74s 3ms/step - loss: 0.3479 - acc: 0.8539 - val_loss: 0.6303 - val_acc: 0.7115\n",
      "Epoch 16/20\n",
      "25000/25000 [==============================] - 71s 3ms/step - loss: 0.3445 - acc: 0.8492 - val_loss: 0.6431 - val_acc: 0.7316\n",
      "Epoch 17/20\n",
      "25000/25000 [==============================] - 74s 3ms/step - loss: 0.3010 - acc: 0.8750 - val_loss: 0.6113 - val_acc: 0.7447\n",
      "Epoch 18/20\n",
      "25000/25000 [==============================] - 76s 3ms/step - loss: 0.2725 - acc: 0.8903 - val_loss: 0.6301 - val_acc: 0.7476\n",
      "Epoch 19/20\n",
      "25000/25000 [==============================] - 75s 3ms/step - loss: 0.2922 - acc: 0.8849 - val_loss: 0.6088 - val_acc: 0.7464\n",
      "Epoch 20/20\n",
      "25000/25000 [==============================] - 78s 3ms/step - loss: 0.2630 - acc: 0.8972 - val_loss: 0.6755 - val_acc: 0.7386\n"
     ]
    }
   ],
   "source": [
    "history = model.fit(X_train, y_train, epochs=20, validation_data=(X_test, y_test))"
   ]
  },
  {
   "cell_type": "code",
   "execution_count": 7,
   "metadata": {},
   "outputs": [
    {
     "name": "stdout",
     "output_type": "stream",
     "text": [
      "Train on 25000 samples, validate on 25000 samples\n",
      "Epoch 1/20\n",
      "25000/25000 [==============================] - 93s 4ms/step - loss: 0.4724 - acc: 0.7716 - val_loss: 0.3486 - val_acc: 0.8559\n",
      "Epoch 2/20\n",
      "25000/25000 [==============================] - 93s 4ms/step - loss: 0.2517 - acc: 0.9010 - val_loss: 0.3059 - val_acc: 0.8772\n",
      "Epoch 3/20\n",
      "25000/25000 [==============================] - 92s 4ms/step - loss: 0.1824 - acc: 0.9336 - val_loss: 0.3138 - val_acc: 0.8784\n",
      "Epoch 4/20\n",
      "25000/25000 [==============================] - 85s 3ms/step - loss: 0.1456 - acc: 0.9503 - val_loss: 0.3681 - val_acc: 0.8641\n",
      "Epoch 5/20\n",
      "25000/25000 [==============================] - 85s 3ms/step - loss: 0.1216 - acc: 0.9594 - val_loss: 0.3788 - val_acc: 0.8677\n",
      "Epoch 6/20\n",
      "25000/25000 [==============================] - 84s 3ms/step - loss: 0.0926 - acc: 0.9694 - val_loss: 0.4063 - val_acc: 0.8630\n",
      "Epoch 7/20\n",
      "25000/25000 [==============================] - 84s 3ms/step - loss: 0.0739 - acc: 0.9775 - val_loss: 0.4850 - val_acc: 0.8632\n",
      "Epoch 8/20\n",
      "25000/25000 [==============================] - 84s 3ms/step - loss: 0.0668 - acc: 0.9784 - val_loss: 0.6101 - val_acc: 0.8489\n",
      "Epoch 9/20\n",
      "25000/25000 [==============================] - 84s 3ms/step - loss: 0.1021 - acc: 0.9627 - val_loss: 0.5635 - val_acc: 0.8524\n",
      "Epoch 10/20\n",
      "25000/25000 [==============================] - 85s 3ms/step - loss: 0.0754 - acc: 0.9755 - val_loss: 0.4759 - val_acc: 0.8535\n",
      "Epoch 11/20\n",
      "25000/25000 [==============================] - 84s 3ms/step - loss: 0.0626 - acc: 0.9805 - val_loss: 0.4676 - val_acc: 0.8483\n",
      "Epoch 12/20\n",
      "25000/25000 [==============================] - 84s 3ms/step - loss: 0.0641 - acc: 0.9798 - val_loss: 0.5571 - val_acc: 0.8582\n",
      "Epoch 13/20\n",
      "25000/25000 [==============================] - 85s 3ms/step - loss: 0.0454 - acc: 0.9870 - val_loss: 0.6173 - val_acc: 0.8553\n",
      "Epoch 14/20\n",
      "25000/25000 [==============================] - 85s 3ms/step - loss: 0.0744 - acc: 0.9770 - val_loss: 0.5991 - val_acc: 0.8535\n",
      "Epoch 15/20\n",
      "25000/25000 [==============================] - 86s 3ms/step - loss: 0.0449 - acc: 0.9868 - val_loss: 0.6497 - val_acc: 0.8556\n",
      "Epoch 16/20\n",
      "25000/25000 [==============================] - 83s 3ms/step - loss: 0.0261 - acc: 0.9938 - val_loss: 0.6963 - val_acc: 0.8547\n",
      "Epoch 17/20\n",
      "25000/25000 [==============================] - 83s 3ms/step - loss: 0.0198 - acc: 0.9952 - val_loss: 0.7621 - val_acc: 0.8523\n",
      "Epoch 18/20\n",
      "25000/25000 [==============================] - 83s 3ms/step - loss: 0.0190 - acc: 0.9956 - val_loss: 0.7390 - val_acc: 0.8534\n",
      "Epoch 19/20\n",
      "25000/25000 [==============================] - 83s 3ms/step - loss: 0.0529 - acc: 0.9839 - val_loss: 0.6307 - val_acc: 0.8520\n",
      "Epoch 20/20\n",
      "25000/25000 [==============================] - 83s 3ms/step - loss: 0.0287 - acc: 0.9923 - val_loss: 0.7199 - val_acc: 0.8504\n"
     ]
    }
   ],
   "source": [
    "model = Sequential()\n",
    "model.add(Embedding(max_features, 32))\n",
    "model.add(LSTM(32))\n",
    "model.add(Dense(1, activation='sigmoid'))\n",
    "\n",
    "model.compile(optimizer='adam', loss='binary_crossentropy', metrics=['acc'])\n",
    "\n",
    "history = model.fit(X_train, y_train, epochs=20, validation_data=(X_test, y_test), batch_size=128)"
   ]
  },
  {
   "cell_type": "code",
   "execution_count": null,
   "metadata": {},
   "outputs": [],
   "source": []
  }
 ],
 "metadata": {
  "kernelspec": {
   "display_name": "Python 3",
   "language": "python",
   "name": "python3"
  },
  "language_info": {
   "codemirror_mode": {
    "name": "ipython",
    "version": 3
   },
   "file_extension": ".py",
   "mimetype": "text/x-python",
   "name": "python",
   "nbconvert_exporter": "python",
   "pygments_lexer": "ipython3",
   "version": "3.6.7"
  }
 },
 "nbformat": 4,
 "nbformat_minor": 2
}
